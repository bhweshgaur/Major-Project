{
 "cells": [
  {
   "cell_type": "markdown",
   "metadata": {
    "colab_type": "text",
    "id": "eatsmeNVElhR"
   },
   "source": [
    "**Project: Stock Market Analysis and Prediction**\n",
    "\n",
    "Stock Market Data From Yahoo Finance\n",
    "\n",
    "**Introduction**\n",
    "\n",
    "Stock Market Analysis and Prediction is the project on technical analysis, visualization and prediction using data provided by Yahoo Finance. By looking at data from the stock market, particularly some giant technology stocks and others. Used pandas to get stock information, visualize different aspects of it, and finally looked at a few ways of analyzing the risk of a stock, based on its previous performance history. Predicted future stock prices through a Monte Carlo method!"
   ]
  },
  {
   "cell_type": "markdown",
   "metadata": {
    "colab_type": "text",
    "id": "CS5Dvq5tLm_q"
   },
   "source": [
    "Importing Libraries"
   ]
  },
  {
   "cell_type": "code",
   "execution_count": 1,
   "metadata": {
    "colab": {},
    "colab_type": "code",
    "id": "EL7zUTSuHxo4"
   },
   "outputs": [],
   "source": [
    "# For Data Processing\n",
    "import pandas as pd\n",
    "import numpy as np\n",
    "from pandas import Series, DataFrame\n",
    "\n",
    "# For Data Visualisation\n",
    "import matplotlib.pyplot as plt\n",
    "import seaborn as sns\n",
    "sns.set_style('whitegrid')\n",
    "%matplotlib inline"
   ]
  },
  {
   "cell_type": "code",
   "execution_count": 2,
   "metadata": {
    "colab": {},
    "colab_type": "code",
    "id": "ahL5vhHdY4Te"
   },
   "outputs": [
    {
     "name": "stderr",
     "output_type": "stream",
     "text": [
      "/home/bhweshgaur1/anaconda3/lib/python3.7/site-packages/pandas_datareader/compat/__init__.py:7: FutureWarning: pandas.util.testing is deprecated. Use the functions in the public API at pandas.testing instead.\n",
      "  from pandas.util.testing import assert_frame_equal\n"
     ]
    }
   ],
   "source": [
    "# Reading Data from yahoo\n",
    "from pandas_datareader import DataReader\n",
    "\n",
    "#for data time stamp\n",
    "from datetime import datetime\n",
    "\n",
    "#for division\n",
    "#from __fut ure__ import division as div"
   ]
  },
  {
   "cell_type": "markdown",
   "metadata": {
    "colab_type": "text",
    "id": "1AeC4qI31RIf"
   },
   "source": [
    "Section 1 - Basic Analysis of Stock Information\n",
    "> \n",
    "\n",
    "In this section I'll go over how to handle requesting stock information with pandas, and how to analyze basic attributes of a stock.\n"
   ]
  },
  {
   "cell_type": "code",
   "execution_count": null,
   "metadata": {
    "colab": {},
    "colab_type": "code",
    "id": "xf35YC4nZnRg"
   },
   "outputs": [],
   "source": [
    "# List of Tech_stocks for analytics\n",
    "tech_list = ['AAPL','GOOGL','MSFT','AMZN']\n",
    "\n",
    "# set up Start and End time for data grab\n",
    "end = datetime.now()\n",
    "start = datetime(end.year-1,end.month,end.day)\n",
    "\n",
    "#For-loop for grabing google finance data and setting as a dataframe\n",
    "# Set DataFrame as the Stock Ticker\n",
    "\n",
    "for stock in tech_list:\n",
    "    globals()[stock] = DataReader(stock,'yahoo',start,end)  #change"
   ]
  },
  {
   "cell_type": "code",
   "execution_count": null,
   "metadata": {
    "colab": {
     "base_uri": "https://localhost:8080/",
     "height": 235
    },
    "colab_type": "code",
    "executionInfo": {
     "elapsed": 7486,
     "status": "ok",
     "timestamp": 1591265184262,
     "user": {
      "displayName": "Bhwesh Gaur",
      "photoUrl": "https://lh3.googleusercontent.com/a-/AOh14GhqVNCPa380wj6B876NotZLteXXvvCfoB_hZovctw=s64",
      "userId": "17814409363742243808"
     },
     "user_tz": -330
    },
    "id": "TzcApX2T1s4o",
    "outputId": "e7495355-d1a8-4edc-eca9-38ef21905978"
   },
   "outputs": [],
   "source": [
    "AAPL.head()"
   ]
  },
  {
   "cell_type": "code",
   "execution_count": null,
   "metadata": {
    "colab": {
     "base_uri": "https://localhost:8080/",
     "height": 297
    },
    "colab_type": "code",
    "executionInfo": {
     "elapsed": 7423,
     "status": "ok",
     "timestamp": 1591265184265,
     "user": {
      "displayName": "Bhwesh Gaur",
      "photoUrl": "https://lh3.googleusercontent.com/a-/AOh14GhqVNCPa380wj6B876NotZLteXXvvCfoB_hZovctw=s64",
      "userId": "17814409363742243808"
     },
     "user_tz": -330
    },
    "id": "fic2cjHz1wnp",
    "outputId": "b2896961-503d-4eed-cb5b-265996019ec5"
   },
   "outputs": [],
   "source": [
    "AAPL.describe()"
   ]
  },
  {
   "cell_type": "code",
   "execution_count": null,
   "metadata": {
    "colab": {
     "base_uri": "https://localhost:8080/",
     "height": 238
    },
    "colab_type": "code",
    "executionInfo": {
     "elapsed": 7354,
     "status": "ok",
     "timestamp": 1591265184268,
     "user": {
      "displayName": "Bhwesh Gaur",
      "photoUrl": "https://lh3.googleusercontent.com/a-/AOh14GhqVNCPa380wj6B876NotZLteXXvvCfoB_hZovctw=s64",
      "userId": "17814409363742243808"
     },
     "user_tz": -330
    },
    "id": "G-NMuALO10dI",
    "outputId": "19f5b6ea-1528-4132-cb53-6050406c6555"
   },
   "outputs": [],
   "source": [
    "AAPL.info()"
   ]
  },
  {
   "cell_type": "markdown",
   "metadata": {
    "colab_type": "text",
    "id": "Ep1t8Jhtp7jy"
   },
   "source": [
    "Now that we've seen the DataFrame, let's go ahead and plot out the volume and closing price of the AAPL(Apple) stocks."
   ]
  },
  {
   "cell_type": "code",
   "execution_count": null,
   "metadata": {
    "colab": {
     "base_uri": "https://localhost:8080/",
     "height": 294
    },
    "colab_type": "code",
    "executionInfo": {
     "elapsed": 8182,
     "status": "ok",
     "timestamp": 1591265185211,
     "user": {
      "displayName": "Bhwesh Gaur",
      "photoUrl": "https://lh3.googleusercontent.com/a-/AOh14GhqVNCPa380wj6B876NotZLteXXvvCfoB_hZovctw=s64",
      "userId": "17814409363742243808"
     },
     "user_tz": -330
    },
    "id": "BEjbk56X13Q_",
    "outputId": "f8e7dd8a-7867-4a5c-96a5-dde2f0dba049"
   },
   "outputs": [],
   "source": [
    "# Let's see a historical view of the closing price\n",
    "AAPL['Close'].plot(legend=True, figsize=(10,4))"
   ]
  },
  {
   "cell_type": "code",
   "execution_count": null,
   "metadata": {
    "colab": {
     "base_uri": "https://localhost:8080/",
     "height": 305
    },
    "colab_type": "code",
    "executionInfo": {
     "elapsed": 10683,
     "status": "ok",
     "timestamp": 1591265187813,
     "user": {
      "displayName": "Bhwesh Gaur",
      "photoUrl": "https://lh3.googleusercontent.com/a-/AOh14GhqVNCPa380wj6B876NotZLteXXvvCfoB_hZovctw=s64",
      "userId": "17814409363742243808"
     },
     "user_tz": -330
    },
    "id": "4qH1awry17a-",
    "outputId": "85f52906-e2af-44a7-ea13-28e940a8be96"
   },
   "outputs": [],
   "source": [
    "# Now let's plot the total volume of stock being traded each day over the past year\n",
    "\n",
    "AAPL['Volume'].plot(legend=True, figsize=(10,4))"
   ]
  },
  {
   "cell_type": "markdown",
   "metadata": {
    "colab_type": "text",
    "id": "WWVxqbNZ2Ek9"
   },
   "source": [
    "We can see that on Jan'2019 was the higher for AAPL stock being traded.\n",
    "\n",
    "Now that we've seen the visualizations for the closing price and the volume traded each day for AAPL stock. Let's go ahead and caculate the moving average for the AAPL stock."
   ]
  },
  {
   "cell_type": "code",
   "execution_count": null,
   "metadata": {
    "colab": {},
    "colab_type": "code",
    "id": "3ZSGKV1R1-ux"
   },
   "outputs": [],
   "source": [
    "# Pandas has a built-in rolling mean calculator\n",
    "\n",
    "# Let's go ahead and plot out several moving averages\n",
    "MA_day = [10,20,50,100]\n",
    "\n",
    "for ma in MA_day:\n",
    "    column_name = 'MA for %s days' %(str(ma))\n",
    "    AAPL[column_name] = AAPL['Close'].rolling(ma).mean()  # change"
   ]
  },
  {
   "cell_type": "code",
   "execution_count": null,
   "metadata": {
    "colab": {
     "base_uri": "https://localhost:8080/",
     "height": 545
    },
    "colab_type": "code",
    "executionInfo": {
     "elapsed": 10553,
     "status": "ok",
     "timestamp": 1591265187818,
     "user": {
      "displayName": "Bhwesh Gaur",
      "photoUrl": "https://lh3.googleusercontent.com/a-/AOh14GhqVNCPa380wj6B876NotZLteXXvvCfoB_hZovctw=s64",
      "userId": "17814409363742243808"
     },
     "user_tz": -330
    },
    "id": "cuqRpkdhwirU",
    "outputId": "19f0d1fa-a57d-4537-a5c4-9f5fc4f5e781"
   },
   "outputs": [],
   "source": [
    "AAPL.head(15)"
   ]
  },
  {
   "cell_type": "markdown",
   "metadata": {
    "colab_type": "text",
    "id": "0mk2I_AY2ddu"
   },
   "source": [
    "Now, lets plot all the additional Moving Averages for AAPL stock"
   ]
  },
  {
   "cell_type": "code",
   "execution_count": null,
   "metadata": {
    "colab": {
     "base_uri": "https://localhost:8080/",
     "height": 294
    },
    "colab_type": "code",
    "executionInfo": {
     "elapsed": 10452,
     "status": "ok",
     "timestamp": 1591265187820,
     "user": {
      "displayName": "Bhwesh Gaur",
      "photoUrl": "https://lh3.googleusercontent.com/a-/AOh14GhqVNCPa380wj6B876NotZLteXXvvCfoB_hZovctw=s64",
      "userId": "17814409363742243808"
     },
     "user_tz": -330
    },
    "id": "gt9l7HFD2YV8",
    "outputId": "5aed3dc7-cdeb-4ad8-9484-0a86e4c4dce9"
   },
   "outputs": [],
   "source": [
    "AAPL[['Close','MA for 10 days','MA for 20 days','MA for 50 days','MA for 100 days']].plot(subplots=False,figsize=(10,4))"
   ]
  },
  {
   "cell_type": "markdown",
   "metadata": {
    "colab_type": "text",
    "id": "EBo-ogB22n4H"
   },
   "source": [
    "**Section 2 - Daily Return Analysis**\n",
    "\n",
    "Now, that we've done some baseline analysis, let's go ahead and dive a little deeper. We're now going to analyze the risk of the stock.\n",
    "\n",
    "In order to do so, we need to take a closer look at the daily changes of the stock, and not just its absolute value. Let's go ahead and use pandas to retrieve the daily returns for the APPL stock."
   ]
  },
  {
   "cell_type": "code",
   "execution_count": null,
   "metadata": {
    "colab": {
     "base_uri": "https://localhost:8080/",
     "height": 294
    },
    "colab_type": "code",
    "executionInfo": {
     "elapsed": 10394,
     "status": "ok",
     "timestamp": 1591265187823,
     "user": {
      "displayName": "Bhwesh Gaur",
      "photoUrl": "https://lh3.googleusercontent.com/a-/AOh14GhqVNCPa380wj6B876NotZLteXXvvCfoB_hZovctw=s64",
      "userId": "17814409363742243808"
     },
     "user_tz": -330
    },
    "id": "e-vqy9pZ2hLI",
    "outputId": "516b8694-c956-47a9-a7f0-5314ec9bed3e"
   },
   "outputs": [],
   "source": [
    "# We'll use pct_change to find the percent change for each day\n",
    "AAPL['Daily Return'] = AAPL['Close'].pct_change()\n",
    "\n",
    "# Lets plot the daily return percentage\n",
    "AAPL['Daily Return'].plot(figsize=(12,4), legend=True, linestyle='--', marker='o')"
   ]
  },
  {
   "cell_type": "markdown",
   "metadata": {
    "colab_type": "text",
    "id": "tkzplyZI29kM"
   },
   "source": [
    "Great, now let's get an overall look at the average daily return using a histogram. By using seaborn to create both a histogram and kde plot on the same figure."
   ]
  },
  {
   "cell_type": "code",
   "execution_count": null,
   "metadata": {
    "colab": {
     "base_uri": "https://localhost:8080/",
     "height": 282
    },
    "colab_type": "code",
    "executionInfo": {
     "elapsed": 11102,
     "status": "ok",
     "timestamp": 1591265188610,
     "user": {
      "displayName": "Bhwesh Gaur",
      "photoUrl": "https://lh3.googleusercontent.com/a-/AOh14GhqVNCPa380wj6B876NotZLteXXvvCfoB_hZovctw=s64",
      "userId": "17814409363742243808"
     },
     "user_tz": -330
    },
    "id": "OQb_3vvU21Fd",
    "outputId": "4026d579-8f1e-4e4c-b675-cba3157db7f1"
   },
   "outputs": [],
   "source": [
    "# only with histogram\n",
    "AAPL['Daily Return'].hist(bins=100)"
   ]
  },
  {
   "cell_type": "code",
   "execution_count": null,
   "metadata": {
    "colab": {
     "base_uri": "https://localhost:8080/",
     "height": 296
    },
    "colab_type": "code",
    "executionInfo": {
     "elapsed": 11012,
     "status": "ok",
     "timestamp": 1591265188613,
     "user": {
      "displayName": "Bhwesh Gaur",
      "photoUrl": "https://lh3.googleusercontent.com/a-/AOh14GhqVNCPa380wj6B876NotZLteXXvvCfoB_hZovctw=s64",
      "userId": "17814409363742243808"
     },
     "user_tz": -330
    },
    "id": "ZGHn6iPu3Cdw",
    "outputId": "516d57f8-927e-46d5-b292-6ec96048db2e"
   },
   "outputs": [],
   "source": [
    "# Note the use of dropna() here, otherwise the NaN values can't be read by seaborn\n",
    "sns.distplot(AAPL['Daily Return'].dropna(), bins=100, color='magenta')"
   ]
  },
  {
   "cell_type": "code",
   "execution_count": null,
   "metadata": {
    "colab": {},
    "colab_type": "code",
    "id": "8OK_ICxg3jJ4"
   },
   "outputs": [],
   "source": [
    "# Grab all the closing prices for the tech stock list into one DataFrame\n",
    "\n",
    "closingprice_df = DataReader(tech_list, 'yahoo', start, end)['Close']"
   ]
  },
  {
   "cell_type": "code",
   "execution_count": null,
   "metadata": {
    "colab": {
     "base_uri": "https://localhost:8080/",
     "height": 390
    },
    "colab_type": "code",
    "executionInfo": {
     "elapsed": 10920,
     "status": "ok",
     "timestamp": 1591265188616,
     "user": {
      "displayName": "Bhwesh Gaur",
      "photoUrl": "https://lh3.googleusercontent.com/a-/AOh14GhqVNCPa380wj6B876NotZLteXXvvCfoB_hZovctw=s64",
      "userId": "17814409363742243808"
     },
     "user_tz": -330
    },
    "id": "gS2daXum3wEA",
    "outputId": "98f62943-1a61-445d-e46b-a5d0ca42c8d8"
   },
   "outputs": [],
   "source": [
    "closingprice_df.head(10)"
   ]
  },
  {
   "cell_type": "code",
   "execution_count": null,
   "metadata": {
    "colab": {},
    "colab_type": "code",
    "id": "sFPMzoZ437iG"
   },
   "outputs": [],
   "source": [
    "# make a new tech returns DataFrame\n",
    "tech_returns = closingprice_df.pct_change()"
   ]
  },
  {
   "cell_type": "code",
   "execution_count": null,
   "metadata": {
    "colab": {
     "base_uri": "https://localhost:8080/",
     "height": 235
    },
    "colab_type": "code",
    "executionInfo": {
     "elapsed": 10893,
     "status": "ok",
     "timestamp": 1591265188620,
     "user": {
      "displayName": "Bhwesh Gaur",
      "photoUrl": "https://lh3.googleusercontent.com/a-/AOh14GhqVNCPa380wj6B876NotZLteXXvvCfoB_hZovctw=s64",
      "userId": "17814409363742243808"
     },
     "user_tz": -330
    },
    "id": "_01RcWA43-IA",
    "outputId": "46ab85a9-bd53-419b-98c8-efaf4a12abd5"
   },
   "outputs": [],
   "source": [
    "tech_returns.head()"
   ]
  },
  {
   "cell_type": "markdown",
   "metadata": {
    "colab_type": "text",
    "id": "bVMSJpVC4Esq"
   },
   "source": [
    "Now we can compare the daily percentage return of two stocks to check how correlated. First let's see a stock compared to itself.\n",
    "\n",
    "GOOGL is a Alphabet Inc Class A Stock."
   ]
  },
  {
   "cell_type": "code",
   "execution_count": null,
   "metadata": {
    "colab": {
     "base_uri": "https://localhost:8080/",
     "height": 458
    },
    "colab_type": "code",
    "executionInfo": {
     "elapsed": 16101,
     "status": "ok",
     "timestamp": 1591265193854,
     "user": {
      "displayName": "Bhwesh Gaur",
      "photoUrl": "https://lh3.googleusercontent.com/a-/AOh14GhqVNCPa380wj6B876NotZLteXXvvCfoB_hZovctw=s64",
      "userId": "17814409363742243808"
     },
     "user_tz": -330
    },
    "id": "fIa9zAA14BCD",
    "outputId": "ee3f4916-9c2c-4591-ef6e-4904ca85c9a2"
   },
   "outputs": [],
   "source": [
    "# Comparing Google to itself should show a perfectly linear relationship\n",
    "sns.jointplot('GOOGL','GOOGL',tech_returns,kind='scatter',color='orange')"
   ]
  },
  {
   "cell_type": "markdown",
   "metadata": {
    "colab_type": "text",
    "id": "0N_YJiVi4LkM"
   },
   "source": [
    "So now we can see that if two stocks are perfectly (and positivley) correlated with each other a linear relationship bewteen its daily return values should occur.\n",
    "\n",
    "So let's go ahead and compare Google and Amazon the same way."
   ]
  },
  {
   "cell_type": "code",
   "execution_count": null,
   "metadata": {
    "colab": {
     "base_uri": "https://localhost:8080/",
     "height": 656
    },
    "colab_type": "code",
    "executionInfo": {
     "elapsed": 16080,
     "status": "ok",
     "timestamp": 1591265193856,
     "user": {
      "displayName": "Bhwesh Gaur",
      "photoUrl": "https://lh3.googleusercontent.com/a-/AOh14GhqVNCPa380wj6B876NotZLteXXvvCfoB_hZovctw=s64",
      "userId": "17814409363742243808"
     },
     "user_tz": -330
    },
    "id": "VKkELmBe4Hhv",
    "outputId": "40c58890-c57e-4968-85cf-ad80516a14f5"
   },
   "outputs": [],
   "source": [
    "# We'll use joinplot to compare the daily returns of Google and Amazon.\n",
    "\n",
    "sns.jointplot('GOOGL','AMZN',tech_returns, kind='scatter',size=8, color='Skyblue')"
   ]
  },
  {
   "cell_type": "code",
   "execution_count": null,
   "metadata": {
    "colab": {
     "base_uri": "https://localhost:8080/",
     "height": 602
    },
    "colab_type": "code",
    "executionInfo": {
     "elapsed": 16054,
     "status": "ok",
     "timestamp": 1591265193858,
     "user": {
      "displayName": "Bhwesh Gaur",
      "photoUrl": "https://lh3.googleusercontent.com/a-/AOh14GhqVNCPa380wj6B876NotZLteXXvvCfoB_hZovctw=s64",
      "userId": "17814409363742243808"
     },
     "user_tz": -330
    },
    "id": "-ay6Q4p-4OXF",
    "outputId": "086d4acd-be5c-4d2b-d149-fa8b14dd7334"
   },
   "outputs": [],
   "source": [
    "# with Hex plot\n",
    "sns.jointplot('GOOGL','AMZN',tech_returns, kind='hex',height=8, color='skyblue')"
   ]
  },
  {
   "cell_type": "code",
   "execution_count": null,
   "metadata": {
    "colab": {
     "base_uri": "https://localhost:8080/",
     "height": 656
    },
    "colab_type": "code",
    "executionInfo": {
     "elapsed": 24251,
     "status": "ok",
     "timestamp": 1591265202290,
     "user": {
      "displayName": "Bhwesh Gaur",
      "photoUrl": "https://lh3.googleusercontent.com/a-/AOh14GhqVNCPa380wj6B876NotZLteXXvvCfoB_hZovctw=s64",
      "userId": "17814409363742243808"
     },
     "user_tz": -330
    },
    "id": "c9oXxbFl4TRK",
    "outputId": "a678b084-58a7-4bf5-bdd0-7e6ab7258e22"
   },
   "outputs": [],
   "source": [
    "# Lets check out for Apple and Microsoft with reg jointplot\n",
    "sns.jointplot('AAPL','MSFT',tech_returns, kind='reg', size=8, color='skyblue')"
   ]
  },
  {
   "cell_type": "markdown",
   "metadata": {
    "colab_type": "text",
    "id": "rd6wAsKm4e0K"
   },
   "source": [
    "Intersting, the pearsonr value (officially known as the Pearson product-moment correlation coefficient) can give you a sense of how correlated the daily percentage returns are. You can find more information about it at this link:\n",
    "\n",
    "Url - http://en.wikipedia.org/wiki/Pearson_product-moment_correlation_coefficient\n",
    "\n",
    "But for a quick intuitive sense, check out the picture below."
   ]
  },
  {
   "cell_type": "code",
   "execution_count": null,
   "metadata": {
    "colab": {
     "base_uri": "https://localhost:8080/",
     "height": 252
    },
    "colab_type": "code",
    "executionInfo": {
     "elapsed": 24179,
     "status": "ok",
     "timestamp": 1591265202292,
     "user": {
      "displayName": "Bhwesh Gaur",
      "photoUrl": "https://lh3.googleusercontent.com/a-/AOh14GhqVNCPa380wj6B876NotZLteXXvvCfoB_hZovctw=s64",
      "userId": "17814409363742243808"
     },
     "user_tz": -330
    },
    "id": "FDWfqCf_4V6y",
    "outputId": "b8c8a4a6-e372-468a-c1f7-8e84b45cde3f"
   },
   "outputs": [],
   "source": [
    "from IPython.display import SVG\n",
    "SVG(url='http://upload.wikimedia.org/wikipedia/commons/d/d4/Correlation_examples2.svg')"
   ]
  },
  {
   "cell_type": "markdown",
   "metadata": {
    "colab_type": "text",
    "id": "KuklkTsO4rma"
   },
   "source": [
    "Seaborn and Pandas make it very easy to repeat this comparison analysis for every possible combination of stocks in our technology stock ticker list. We can use sns.pairplot() to automatically create this plot"
   ]
  },
  {
   "cell_type": "code",
   "execution_count": null,
   "metadata": {
    "colab": {
     "base_uri": "https://localhost:8080/",
     "height": 962
    },
    "colab_type": "code",
    "executionInfo": {
     "elapsed": 27196,
     "status": "ok",
     "timestamp": 1591265205355,
     "user": {
      "displayName": "Bhwesh Gaur",
      "photoUrl": "https://lh3.googleusercontent.com/a-/AOh14GhqVNCPa380wj6B876NotZLteXXvvCfoB_hZovctw=s64",
      "userId": "17814409363742243808"
     },
     "user_tz": -330
    },
    "id": "3mfIUWG24dzP",
    "outputId": "3fb7e1a6-3057-459d-ecab-c76f92f08926"
   },
   "outputs": [],
   "source": [
    "# We can simply call pairplot on our DataFrame for an automatic visual analysis of all the comparisons\n",
    "sns.pairplot(tech_returns.dropna(),size=3)"
   ]
  },
  {
   "cell_type": "markdown",
   "metadata": {
    "colab_type": "text",
    "id": "75zhg2H-4zRM"
   },
   "source": [
    "Above we can see all the relationships on daily returns between all the stocks. A quick glance shows an interesting correlation between Google and Amazon daily returns. It might be interesting to investigate that individual comaprison. While the simplicity of just calling sns.pairplot() is fantastic we can also use sns.PairGrid() for full control of the figure, including what kind of plots go in the diagonal, the upper triangle, and the lower triangle.\n",
    "\n",
    "Below is an example of utilizing the full power of seaborn to achieve this result."
   ]
  },
  {
   "cell_type": "code",
   "execution_count": null,
   "metadata": {
    "colab": {
     "base_uri": "https://localhost:8080/",
     "height": 764
    },
    "colab_type": "code",
    "executionInfo": {
     "elapsed": 32051,
     "status": "ok",
     "timestamp": 1591265210239,
     "user": {
      "displayName": "Bhwesh Gaur",
      "photoUrl": "https://lh3.googleusercontent.com/a-/AOh14GhqVNCPa380wj6B876NotZLteXXvvCfoB_hZovctw=s64",
      "userId": "17814409363742243808"
     },
     "user_tz": -330
    },
    "id": "hOWL7Tj94u5u",
    "outputId": "6ba7f5ca-90d2-4451-99c0-0408a0ed3538"
   },
   "outputs": [],
   "source": [
    "# Set up the figure by naming it returns_fig, call PairGrid on the DataFrame\n",
    "returns_fig = sns.PairGrid(tech_returns.dropna())\n",
    "\n",
    "# Using map_upper we can specify what the upper triangle will look like.\n",
    "returns_fig.map_upper(plt.scatter,color='purple')\n",
    "\n",
    "# We can also define the lower triangle in the figure, including the plot type (kde) & the color map (BluePurple)\n",
    "returns_fig.map_lower(sns.kdeplot,cmap='cool_d')\n",
    "\n",
    "# Finally we'll define the diagonal as a series of histogram plots of the daily return\n",
    "returns_fig.map_diag(plt.hist,bins=30)"
   ]
  },
  {
   "cell_type": "markdown",
   "metadata": {
    "colab_type": "text",
    "id": "VhiywdUa454c"
   },
   "source": [
    "We can also analyze the correlation of the closing prices using this exact same technique. Here it is shown, the code repeated from above with the exception of the DataFrame called."
   ]
  },
  {
   "cell_type": "code",
   "execution_count": null,
   "metadata": {
    "colab": {
     "base_uri": "https://localhost:8080/",
     "height": 764
    },
    "colab_type": "code",
    "executionInfo": {
     "elapsed": 40719,
     "status": "ok",
     "timestamp": 1591265218928,
     "user": {
      "displayName": "Bhwesh Gaur",
      "photoUrl": "https://lh3.googleusercontent.com/a-/AOh14GhqVNCPa380wj6B876NotZLteXXvvCfoB_hZovctw=s64",
      "userId": "17814409363742243808"
     },
     "user_tz": -330
    },
    "id": "-eJaRxmW412p",
    "outputId": "b51acd25-ee23-4b81-b262-59cb9835c2d7"
   },
   "outputs": [],
   "source": [
    "# Set up the figure by naming it returns_fig, call PairGrid on the DataFrame\n",
    "returns_fig = sns.PairGrid(closingprice_df.dropna())\n",
    "\n",
    "# Using map_upper we can specify what the upper triangle will look like.\n",
    "returns_fig.map_upper(plt.scatter,color='purple')\n",
    "\n",
    "# We can also define the lower triangle in the figure, including the plot type (kde) & the color map (BluePurple)\n",
    "returns_fig.map_lower(sns.kdeplot,cmap='cool_d')\n",
    "\n",
    "# Finally we'll define the diagonal as a series of histogram plots of the daily return\n",
    "returns_fig.map_diag(plt.hist,bins=30)"
   ]
  },
  {
   "cell_type": "markdown",
   "metadata": {
    "colab_type": "text",
    "id": "Rh7tCmVE5Enn"
   },
   "source": [
    "Finally, we can also do a correlation plot, to get actual numerical values for the correlation between the stocks' daily return values. By comparing the closing prices, we see an interesting relationship between Google and Amazon stocks."
   ]
  },
  {
   "cell_type": "code",
   "execution_count": null,
   "metadata": {
    "colab": {
     "base_uri": "https://localhost:8080/",
     "height": 300
    },
    "colab_type": "code",
    "executionInfo": {
     "elapsed": 40700,
     "status": "ok",
     "timestamp": 1591265218930,
     "user": {
      "displayName": "Bhwesh Gaur",
      "photoUrl": "https://lh3.googleusercontent.com/a-/AOh14GhqVNCPa380wj6B876NotZLteXXvvCfoB_hZovctw=s64",
      "userId": "17814409363742243808"
     },
     "user_tz": -330
    },
    "id": "x9qd8ZzO484i",
    "outputId": "66a1a876-3d37-42af-ef33-d9b908b5535a"
   },
   "outputs": [],
   "source": [
    "# Let's go ahead and use seaborn for a quick heatmap to get correlation for the daily return of the stocks.\n",
    "sns.heatmap(tech_returns.corr(),annot= True,fmt='.2g',cmap='YlGnBu')"
   ]
  },
  {
   "cell_type": "code",
   "execution_count": null,
   "metadata": {
    "colab": {
     "base_uri": "https://localhost:8080/",
     "height": 300
    },
    "colab_type": "code",
    "executionInfo": {
     "elapsed": 40680,
     "status": "ok",
     "timestamp": 1591265218932,
     "user": {
      "displayName": "Bhwesh Gaur",
      "photoUrl": "https://lh3.googleusercontent.com/a-/AOh14GhqVNCPa380wj6B876NotZLteXXvvCfoB_hZovctw=s64",
      "userId": "17814409363742243808"
     },
     "user_tz": -330
    },
    "id": "8sqknAXn6nJ0",
    "outputId": "ff3cb250-a5a6-46f0-955f-bd3f2c83ca8e"
   },
   "outputs": [],
   "source": [
    "# Lets check out the correlation between closing prices of stocks\n",
    "sns.heatmap(closingprice_df.corr(),annot=True,fmt=\".3g\",cmap='YlGnBu')"
   ]
  },
  {
   "cell_type": "markdown",
   "metadata": {
    "colab_type": "text",
    "id": "W7AGFWaPCaru"
   },
   "source": [
    "**Fantastic! Just like we suspected in our PairPlot we see here numerically and visually that Microsoft and Amazon had the strongest correlation of daily stock return. It's also interesting to see that all the technology comapnies are positively correlated.**\n",
    "\n",
    "Great! Now that we've done some daily return analysis, let's go ahead and start looking deeper into actual risk analysis.\n",
    "\n",
    "**Risk Analysis**\n",
    "\n",
    "There are many ways we can quantify risk, one of the most basic ways using the information we've gathered on daily percentage returns is by comparing the expected return with the standard deviation of the daily returns(Risk)."
   ]
  },
  {
   "cell_type": "code",
   "execution_count": null,
   "metadata": {
    "colab": {},
    "colab_type": "code",
    "id": "8U1B9VPVBPIN"
   },
   "outputs": [],
   "source": [
    "# Let's start by defining a new DataFrame as a clenaed version of the oriignal tech_returns DataFrame\n",
    "rets = tech_returns.dropna()"
   ]
  },
  {
   "cell_type": "markdown",
   "metadata": {
    "colab_type": "text",
    "id": "djSIAKnap3aa"
   },
   "source": []
  },
  {
   "cell_type": "code",
   "execution_count": null,
   "metadata": {
    "colab": {
     "base_uri": "https://localhost:8080/",
     "height": 235
    },
    "colab_type": "code",
    "executionInfo": {
     "elapsed": 40642,
     "status": "ok",
     "timestamp": 1591265218936,
     "user": {
      "displayName": "Bhwesh Gaur",
      "photoUrl": "https://lh3.googleusercontent.com/a-/AOh14GhqVNCPa380wj6B876NotZLteXXvvCfoB_hZovctw=s64",
      "userId": "17814409363742243808"
     },
     "user_tz": -330
    },
    "id": "aXXMec_oDUpQ",
    "outputId": "be811af5-f724-46cd-d1d1-b4c1b7d6d6fe"
   },
   "outputs": [],
   "source": [
    "rets.head()"
   ]
  },
  {
   "cell_type": "code",
   "execution_count": null,
   "metadata": {
    "colab": {
     "base_uri": "https://localhost:8080/",
     "height": 340
    },
    "colab_type": "code",
    "executionInfo": {
     "elapsed": 46348,
     "status": "ok",
     "timestamp": 1591265224668,
     "user": {
      "displayName": "Bhwesh Gaur",
      "photoUrl": "https://lh3.googleusercontent.com/a-/AOh14GhqVNCPa380wj6B876NotZLteXXvvCfoB_hZovctw=s64",
      "userId": "17814409363742243808"
     },
     "user_tz": -330
    },
    "id": "YEc5onO-DYBD",
    "outputId": "7fcb1aef-cfce-418c-bb47-83c6b3b9da44"
   },
   "outputs": [],
   "source": [
    "# Defining the area for the circles of scatter plot to avoid tiny little points\n",
    "area = np.pi*20\n",
    "\n",
    "plt.scatter(rets.mean(),rets.std(),s=area)\n",
    "\n",
    "# Set the x and y limits of the plot (optional, remove this if you don't see anything in your plot)\n",
    "plt.xlim([-0.0025,0.0025])\n",
    "plt.ylim([0.001,0.025])\n",
    "\n",
    "#Set the plot axis titles\n",
    "plt.xlabel('Expected returns')\n",
    "plt.ylabel('Risk')\n",
    "\n",
    "# Label the scatter plots, for more info on how this is done, chekc out the link below\n",
    "# http://matplotlib.org/users/annotations_guide.html\n",
    "for label, x, y in zip(rets.columns, rets.mean(), rets.std()):\n",
    "    plt.annotate(\n",
    "        label, \n",
    "        xy = (x, y), xytext = (50, 50),\n",
    "        textcoords = 'offset points', ha = 'right', va = 'bottom',\n",
    "        arrowprops = dict(arrowstyle = 'fancy', connectionstyle = 'arc3,rad=-0.3'))"
   ]
  },
  {
   "cell_type": "markdown",
   "metadata": {
    "colab_type": "text",
    "id": "tlwwwbpLFMEj"
   },
   "source": [
    "By looking at the scatter plot we can say these stocks have lower risk and positive expected returns.\n",
    "\n",
    "**Value at Risk**\n",
    "\n",
    "Let's go ahead and define a value at risk parameter for our stocks. We can treat value at risk as the amount of money we could expect to lose (aka putting at risk) for a given confidence interval. There's several methods we can use for estimating a value at risk. Let's go ahead and see some of them in action.\n",
    "\n",
    "Value at risk using the \"bootstrap\" method\n",
    "For this method we will calculate the empirical quantiles from a histogram of daily returns. For more information on quantiles, check out this link: http://en.wikipedia.org/wiki/Quantile\n",
    "\n",
    "# Let's go ahead and repeat the daily returns histogram for Apple stock."
   ]
  },
  {
   "cell_type": "code",
   "execution_count": null,
   "metadata": {
    "colab": {
     "base_uri": "https://localhost:8080/",
     "height": 296
    },
    "colab_type": "code",
    "executionInfo": {
     "elapsed": 46328,
     "status": "ok",
     "timestamp": 1591265224670,
     "user": {
      "displayName": "Bhwesh Gaur",
      "photoUrl": "https://lh3.googleusercontent.com/a-/AOh14GhqVNCPa380wj6B876NotZLteXXvvCfoB_hZovctw=s64",
      "userId": "17814409363742243808"
     },
     "user_tz": -330
    },
    "id": "VldwyBCTEig6",
    "outputId": "54dfde79-59be-4aa2-88e1-919ea8f9cf3f"
   },
   "outputs": [],
   "source": [
    "# Note the use of dropna() here, otherwise the NaN values can't be read by seaborn\n",
    "sns.distplot(AAPL['Daily Return'].dropna(),bins=100,color='purple')"
   ]
  },
  {
   "cell_type": "markdown",
   "metadata": {
    "colab_type": "text",
    "id": "8YpjS8eGMY5U"
   },
   "source": [
    "Now we can use quantile to get the risk value for the stock."
   ]
  },
  {
   "cell_type": "code",
   "execution_count": null,
   "metadata": {
    "colab": {
     "base_uri": "https://localhost:8080/",
     "height": 34
    },
    "colab_type": "code",
    "executionInfo": {
     "elapsed": 46308,
     "status": "ok",
     "timestamp": 1591265224672,
     "user": {
      "displayName": "Bhwesh Gaur",
      "photoUrl": "https://lh3.googleusercontent.com/a-/AOh14GhqVNCPa380wj6B876NotZLteXXvvCfoB_hZovctw=s64",
      "userId": "17814409363742243808"
     },
     "user_tz": -330
    },
    "id": "SjZsbTwdMT-y",
    "outputId": "ed9ec107-131e-445a-8831-b5fa35836cfc"
   },
   "outputs": [],
   "source": [
    "# The 0.05 empirical quantile of daily returns\n",
    "\n",
    "# For APPL stocks\n",
    "rets[\"AAPL\"].quantile(0.05)"
   ]
  },
  {
   "cell_type": "markdown",
   "metadata": {
    "colab_type": "text",
    "id": "NOwVWs1EMlIx"
   },
   "source": [
    "The 0.05 empirical quantile of daily returns is at -0.029. That means that with 97% confidence, our worst daily loss will not exceed 2.9%. If we have a 1 million dollar investment, our one-day 5% VaR is 0.029 * 1,000,000 = $29,000.\n",
    "\n",
    "---\n",
    "\n"
   ]
  },
  {
   "cell_type": "code",
   "execution_count": null,
   "metadata": {
    "colab": {
     "base_uri": "https://localhost:8080/",
     "height": 34
    },
    "colab_type": "code",
    "executionInfo": {
     "elapsed": 46288,
     "status": "ok",
     "timestamp": 1591265224674,
     "user": {
      "displayName": "Bhwesh Gaur",
      "photoUrl": "https://lh3.googleusercontent.com/a-/AOh14GhqVNCPa380wj6B876NotZLteXXvvCfoB_hZovctw=s64",
      "userId": "17814409363742243808"
     },
     "user_tz": -330
    },
    "id": "xmw0xefLMb8o",
    "outputId": "f94e8af2-9b5f-4fc1-b7a6-62ebd297d7d2"
   },
   "outputs": [],
   "source": [
    "# For AMZN stocks\n",
    "rets[\"AMZN\"].quantile(0.05)"
   ]
  },
  {
   "cell_type": "code",
   "execution_count": null,
   "metadata": {
    "colab": {
     "base_uri": "https://localhost:8080/",
     "height": 34
    },
    "colab_type": "code",
    "executionInfo": {
     "elapsed": 46262,
     "status": "ok",
     "timestamp": 1591265224676,
     "user": {
      "displayName": "Bhwesh Gaur",
      "photoUrl": "https://lh3.googleusercontent.com/a-/AOh14GhqVNCPa380wj6B876NotZLteXXvvCfoB_hZovctw=s64",
      "userId": "17814409363742243808"
     },
     "user_tz": -330
    },
    "id": "TaFjQxPtMjur",
    "outputId": "6bbe757a-7c28-46d3-e711-cbb1cd79dce1"
   },
   "outputs": [],
   "source": [
    "# For GOOGL stocks\n",
    "rets[\"GOOGL\"].quantile(0.05)"
   ]
  },
  {
   "cell_type": "code",
   "execution_count": null,
   "metadata": {
    "colab": {
     "base_uri": "https://localhost:8080/",
     "height": 34
    },
    "colab_type": "code",
    "executionInfo": {
     "elapsed": 46243,
     "status": "ok",
     "timestamp": 1591265224678,
     "user": {
      "displayName": "Bhwesh Gaur",
      "photoUrl": "https://lh3.googleusercontent.com/a-/AOh14GhqVNCPa380wj6B876NotZLteXXvvCfoB_hZovctw=s64",
      "userId": "17814409363742243808"
     },
     "user_tz": -330
    },
    "id": "UxZA6OTyMvOu",
    "outputId": "af874e3b-f06a-40a5-c8ae-3ff79627f6a6"
   },
   "outputs": [],
   "source": [
    "# For MSFT stocks\n",
    "rets[\"MSFT\"].quantile(0.05)"
   ]
  },
  {
   "cell_type": "markdown",
   "metadata": {
    "colab_type": "text",
    "id": "mEAVOh6ZM7Do"
   },
   "source": [
    "**Value at Risk using the Monte Carlo method**\n",
    "\n",
    "Using the Monte Carlo to run many trials with random market conditions, then we'll calculate portfolio losses for each trial. After this, we'll use the aggregation of all these simulations to establish how risky the stock is.\n",
    "\n",
    "Let's start with a brief explanation of what we're going to do:\n",
    "\n",
    "We will use the geometric Brownian motion (GBM), which is technically known as a Markov process. This means that the stock price follows a random walk and is consistent with (at the very least) the weak form of the efficient market hypothesis (EMH): past price information is already incorporated and the next price movement is \"conditionally independent\" of past price movements.\n",
    "\n",
    "This means that the past information on the price of a stock is independent of where the stock price will be in the future, basically meaning, you can't perfectly predict the future solely based on the previous price of a stock.\n",
    "\n",
    "Now we see that the change in the stock price is the current stock price multiplied by two terms. The first term is known as \"drift\", which is the average daily return multiplied by the change of time. The second term is known as \"shock\", for each time period the stock will \"drift\" and then experience a \"shock\" which will randomly push the stock price up or down. By simulating this series of steps of drift and shock thousands of times, we can begin to do a simulation of where we might expect the stock price to be.\n",
    "\n",
    "// For more info on the Monte Carlo method for stocks and simulating stock prices with GBM model ie. geometric Brownian motion (GBM).\n",
    "\n",
    "// check out the following link: http://www.investopedia.com/articles/07/montecarlo.asp\n",
    "\n",
    "// To demonstrate a basic Monte Carlo method, we will start with just a few simulations. First we'll define the variables we'll be using in the Google stock DataFrame GOOGL\n",
    "\n"
   ]
  },
  {
   "cell_type": "code",
   "execution_count": null,
   "metadata": {
    "colab": {
     "base_uri": "https://localhost:8080/",
     "height": 235
    },
    "colab_type": "code",
    "executionInfo": {
     "elapsed": 46222,
     "status": "ok",
     "timestamp": 1591265224680,
     "user": {
      "displayName": "Bhwesh Gaur",
      "photoUrl": "https://lh3.googleusercontent.com/a-/AOh14GhqVNCPa380wj6B876NotZLteXXvvCfoB_hZovctw=s64",
      "userId": "17814409363742243808"
     },
     "user_tz": -330
    },
    "id": "KhGBK5_FM1QH",
    "outputId": "ef81bbee-ff57-4f7d-e04c-50203cff3ce2"
   },
   "outputs": [],
   "source": [
    "rets.head()"
   ]
  },
  {
   "cell_type": "code",
   "execution_count": null,
   "metadata": {
    "colab": {},
    "colab_type": "code",
    "id": "YqsV8DOQNNTI"
   },
   "outputs": [],
   "source": [
    "# Set up our time horizon\n",
    "days = 365\n",
    "\n",
    "# Now our delta\n",
    "dt = 1/days\n",
    "\n",
    "# Now let's grab our mu (drift) from the expected return data we got for GOOGL\n",
    "mu = rets.mean()['GOOGL']\n",
    "\n",
    "# Now let's grab the volatility of the stock from the std() of the average return for GOOGL\n",
    "sigma = rets.std()['GOOGL']"
   ]
  },
  {
   "cell_type": "markdown",
   "metadata": {
    "colab_type": "text",
    "id": "HHuQ-cz0NZGu"
   },
   "source": [
    "Next, we will create a function that takes in the starting price and number of days, and uses the sigma and mu we already calculated form our daily returns."
   ]
  },
  {
   "cell_type": "code",
   "execution_count": null,
   "metadata": {
    "colab": {},
    "colab_type": "code",
    "id": "6jaM5LncNVW2"
   },
   "outputs": [],
   "source": [
    "def stock_monte_carlo(start_price,days,mu,sigma):\n",
    "    ''' This function takes in starting stock price, days of simulation,mu,sigma, and returns simulated price array'''\n",
    "    \n",
    "    # Define a price array\n",
    "    price = np.zeros(days)\n",
    "    price[0] = start_price\n",
    "    \n",
    "    # Shock and Drift\n",
    "    shock = np.zeros(days)\n",
    "    drift = np.zeros(days)\n",
    "    \n",
    "    # Run price array for number of days\n",
    "    for x in range(1,days):\n",
    "        \n",
    "        # Calculate Shock\n",
    "        shock[x] = np.random.normal(loc=mu * dt, scale=sigma * np.sqrt(dt))\n",
    "        # Calculate Drift\n",
    "        drift[x] = mu * dt\n",
    "        # Calculate Price\n",
    "        price[x] = price[x-1] + (price[x-1] * (drift[x] + shock[x]))\n",
    "        \n",
    "    return price"
   ]
  },
  {
   "cell_type": "markdown",
   "metadata": {
    "colab_type": "text",
    "id": "Fm9A-31pNhHE"
   },
   "source": [
    "Awesome! Now lets put above function to work."
   ]
  },
  {
   "cell_type": "code",
   "execution_count": null,
   "metadata": {
    "colab": {
     "base_uri": "https://localhost:8080/",
     "height": 235
    },
    "colab_type": "code",
    "executionInfo": {
     "elapsed": 46171,
     "status": "ok",
     "timestamp": 1591265224687,
     "user": {
      "displayName": "Bhwesh Gaur",
      "photoUrl": "https://lh3.googleusercontent.com/a-/AOh14GhqVNCPa380wj6B876NotZLteXXvvCfoB_hZovctw=s64",
      "userId": "17814409363742243808"
     },
     "user_tz": -330
    },
    "id": "2T3D8cwTNeDi",
    "outputId": "8d5ff337-beda-471c-9199-84ee1656b19c"
   },
   "outputs": [],
   "source": [
    "# For Google Stock - GOOGL\n",
    "GOOGL.head()"
   ]
  },
  {
   "cell_type": "code",
   "execution_count": null,
   "metadata": {
    "colab": {
     "base_uri": "https://localhost:8080/",
     "height": 312
    },
    "colab_type": "code",
    "executionInfo": {
     "elapsed": 46126,
     "status": "ok",
     "timestamp": 1591265224689,
     "user": {
      "displayName": "Bhwesh Gaur",
      "photoUrl": "https://lh3.googleusercontent.com/a-/AOh14GhqVNCPa380wj6B876NotZLteXXvvCfoB_hZovctw=s64",
      "userId": "17814409363742243808"
     },
     "user_tz": -330
    },
    "id": "nDls58R-Nj1C",
    "outputId": "351cbb4b-d885-4f26-8d4d-d8d28208064c"
   },
   "outputs": [],
   "source": [
    "start_price = 830.09\n",
    "\n",
    "for run in range(100):\n",
    "    plt.plot(stock_monte_carlo(start_price, days, mu, sigma))\n",
    "    \n",
    "plt.xlabel(\"Days\")\n",
    "plt.ylabel(\"Price\")  \n",
    "plt.title('Monte Carlo Analysis for Google')"
   ]
  },
  {
   "cell_type": "code",
   "execution_count": null,
   "metadata": {
    "colab": {
     "base_uri": "https://localhost:8080/",
     "height": 235
    },
    "colab_type": "code",
    "executionInfo": {
     "elapsed": 46079,
     "status": "ok",
     "timestamp": 1591265224691,
     "user": {
      "displayName": "Bhwesh Gaur",
      "photoUrl": "https://lh3.googleusercontent.com/a-/AOh14GhqVNCPa380wj6B876NotZLteXXvvCfoB_hZovctw=s64",
      "userId": "17814409363742243808"
     },
     "user_tz": -330
    },
    "id": "XXFmekU2NnX7",
    "outputId": "045b38b7-d4e2-4647-9e71-6204276ef946"
   },
   "outputs": [],
   "source": [
    "# For Amazon Stock - AMZN\n",
    "AMZN.head()"
   ]
  },
  {
   "cell_type": "code",
   "execution_count": null,
   "metadata": {
    "colab": {
     "base_uri": "https://localhost:8080/",
     "height": 312
    },
    "colab_type": "code",
    "executionInfo": {
     "elapsed": 46008,
     "status": "ok",
     "timestamp": 1591265224692,
     "user": {
      "displayName": "Bhwesh Gaur",
      "photoUrl": "https://lh3.googleusercontent.com/a-/AOh14GhqVNCPa380wj6B876NotZLteXXvvCfoB_hZovctw=s64",
      "userId": "17814409363742243808"
     },
     "user_tz": -330
    },
    "id": "IqFIWabjNsPI",
    "outputId": "f23ad25a-ce58-4914-9b0b-03dbd625e314"
   },
   "outputs": [],
   "source": [
    "start_price = 824.95\n",
    "\n",
    "for run in range(100):\n",
    "    plt.plot(stock_monte_carlo(start_price, days, mu, sigma))\n",
    "    \n",
    "plt.xlabel(\"Days\")\n",
    "plt.ylabel(\"Price\")  \n",
    "plt.title('Monte Carlo Analysis for Amazon')\n",
    "k = plt.savefig('a.jpg')"
   ]
  },
  {
   "cell_type": "code",
   "execution_count": null,
   "metadata": {
    "colab": {
     "base_uri": "https://localhost:8080/",
     "height": 337
    },
    "colab_type": "code",
    "executionInfo": {
     "elapsed": 45968,
     "status": "ok",
     "timestamp": 1591265224699,
     "user": {
      "displayName": "Bhwesh Gaur",
      "photoUrl": "https://lh3.googleusercontent.com/a-/AOh14GhqVNCPa380wj6B876NotZLteXXvvCfoB_hZovctw=s64",
      "userId": "17814409363742243808"
     },
     "user_tz": -330
    },
    "id": "DJUHSRWzNzHq",
    "outputId": "d24f3c8b-28bf-4a00-a39f-bb0fe5a046d9"
   },
   "outputs": [],
   "source": [
    "# For Apple Stock - AAPL\n",
    "AAPL.head()"
   ]
  },
  {
   "cell_type": "code",
   "execution_count": null,
   "metadata": {
    "colab": {
     "base_uri": "https://localhost:8080/",
     "height": 312
    },
    "colab_type": "code",
    "executionInfo": {
     "elapsed": 45937,
     "status": "ok",
     "timestamp": 1591265224701,
     "user": {
      "displayName": "Bhwesh Gaur",
      "photoUrl": "https://lh3.googleusercontent.com/a-/AOh14GhqVNCPa380wj6B876NotZLteXXvvCfoB_hZovctw=s64",
      "userId": "17814409363742243808"
     },
     "user_tz": -330
    },
    "id": "y1pKFZLON3Zb",
    "outputId": "5877468f-dd21-4727-a55a-e822bc6df68b"
   },
   "outputs": [],
   "source": [
    "start_price = 117.10\n",
    "\n",
    "for run in range(100):\n",
    "    plt.plot(stock_monte_carlo(start_price, days, mu, sigma))\n",
    "    \n",
    "plt.xlabel(\"Days\")\n",
    "plt.ylabel(\"Price\")  \n",
    "plt.title('Monte Carlo Analysis for Apple')"
   ]
  },
  {
   "cell_type": "code",
   "execution_count": null,
   "metadata": {
    "colab": {
     "base_uri": "https://localhost:8080/",
     "height": 235
    },
    "colab_type": "code",
    "executionInfo": {
     "elapsed": 45896,
     "status": "ok",
     "timestamp": 1591265224703,
     "user": {
      "displayName": "Bhwesh Gaur",
      "photoUrl": "https://lh3.googleusercontent.com/a-/AOh14GhqVNCPa380wj6B876NotZLteXXvvCfoB_hZovctw=s64",
      "userId": "17814409363742243808"
     },
     "user_tz": -330
    },
    "id": "4Cdefe0POBgo",
    "outputId": "7bf22f15-d7e0-4b8f-d3dc-fab796e5bf62"
   },
   "outputs": [],
   "source": [
    "# For Microsoft Stock - MSFT\n",
    "MSFT.head()"
   ]
  },
  {
   "cell_type": "code",
   "execution_count": null,
   "metadata": {
    "colab": {
     "base_uri": "https://localhost:8080/",
     "height": 312
    },
    "colab_type": "code",
    "executionInfo": {
     "elapsed": 48257,
     "status": "ok",
     "timestamp": 1591265227118,
     "user": {
      "displayName": "Bhwesh Gaur",
      "photoUrl": "https://lh3.googleusercontent.com/a-/AOh14GhqVNCPa380wj6B876NotZLteXXvvCfoB_hZovctw=s64",
      "userId": "17814409363742243808"
     },
     "user_tz": -330
    },
    "id": "VYpFtR27OEwt",
    "outputId": "3fe12efa-c121-4e30-bd44-07248b577040"
   },
   "outputs": [],
   "source": [
    "start_price = 59.94\n",
    "\n",
    "for run in range(100):\n",
    "    plt.plot(stock_monte_carlo(start_price, days, mu, sigma))\n",
    "\n",
    "\n",
    "plt.xlabel(\"Days\")\n",
    "plt.ylabel(\"Price\")  \n",
    "plt.title('Monte Carlo Analysis for Microsoft')\n",
    "fi = plt.figure()"
   ]
  },
  {
   "cell_type": "code",
   "execution_count": null,
   "metadata": {},
   "outputs": [],
   "source": [
    "fi"
   ]
  },
  {
   "cell_type": "markdown",
   "metadata": {
    "colab_type": "text",
    "id": "DH_RtwOSONJO"
   },
   "source": [
    "Let's go ahead and get a histogram of the end results for a much larger run. (note: This could take a little while to run , depending on the number of runs chosen)"
   ]
  },
  {
   "cell_type": "code",
   "execution_count": null,
   "metadata": {
    "colab": {},
    "colab_type": "code",
    "id": "pkots-zoOIUD"
   },
   "outputs": [],
   "source": [
    "# Lets start with Google stock price\n",
    "start_price = 830.09\n",
    "\n",
    "# Set a large numebr of runs\n",
    "runs = 10000\n",
    "\n",
    "# Create an empty matrix to hold the end price data\n",
    "simulations = np.zeros(runs)\n",
    "\n",
    "for run in range(runs):    \n",
    "    # Set the simulation data point as the last stock price for that run\n",
    "    simulations[run] = stock_monte_carlo(start_price,days,mu,sigma)[days-1]"
   ]
  },
  {
   "cell_type": "code",
   "execution_count": null,
   "metadata": {
    "colab": {
     "base_uri": "https://localhost:8080/",
     "height": 335
    },
    "colab_type": "code",
    "executionInfo": {
     "elapsed": 70799,
     "status": "ok",
     "timestamp": 1591265249725,
     "user": {
      "displayName": "Bhwesh Gaur",
      "photoUrl": "https://lh3.googleusercontent.com/a-/AOh14GhqVNCPa380wj6B876NotZLteXXvvCfoB_hZovctw=s64",
      "userId": "17814409363742243808"
     },
     "user_tz": -330
    },
    "id": "ohyOr2sVOapC",
    "outputId": "f0198787-c82c-4c47-c597-0c8af67a11b1"
   },
   "outputs": [],
   "source": [
    "# Now we'll define q as the 1% empirical quantile, this basically means that 99% of the values should fall between here\n",
    "q = np.percentile(simulations,1)\n",
    "\n",
    "# Now let's plot the distribution of the end prices\n",
    "plt.hist(simulations, bins=200)\n",
    "\n",
    "# Using plt.figtext to fill in some additional information onto the plot\n",
    "\n",
    "# starting price\n",
    "plt.figtext(0.6,0.8, s='Start Price: $%.2f' % start_price)\n",
    "\n",
    "# mean ending price\n",
    "plt.figtext(0.6,0.7, s='Mean Final Price: $%.2f' % simulations.mean())\n",
    "\n",
    "# Variance of the price (within 99% confidence interval)\n",
    "plt.figtext(0.6,0.6, s='VaR(0.99): $%.2f' % (start_price - q))\n",
    "\n",
    "# To display 1% quantile\n",
    "plt.figtext(0.15, 0.6, s=\"q(0.99): $%.2f\" % q)\n",
    "\n",
    "# Plot a line at the 1% quantile result\n",
    "plt.axvline(x=q, linewidth=4, color='r')\n",
    "\n",
    "# For plot title\n",
    "plt.title(label =\"Final price distribution for Google Stock(GOOGL) after %s days\" % days, weight='bold', color='Y')"
   ]
  },
  {
   "cell_type": "markdown",
   "metadata": {
    "colab_type": "text",
    "id": "C4kpgEp3Q5sT"
   },
   "source": [
    "Awesome! Now we have looked at the 1% empirical quantile of the final price distribution to estimate the Value at Risk for the Google Stock(GOOGL), which looks to be $29.90 for every investment of 830.09 (The price of one initial Google Stock).\n",
    "\n",
    "This basically means for every initial GOOGL stock you purchase you're putting about $29.90 at risk 99% of the time from our Monte Carlo Simulation."
   ]
  },
  {
   "cell_type": "markdown",
   "metadata": {
    "colab_type": "text",
    "id": "eClXvbG_Q5Zn"
   },
   "source": [
    "Now lets plot remaining Stocks to estimate the VaR with our Monte Carlo Simulation"
   ]
  },
  {
   "cell_type": "code",
   "execution_count": null,
   "metadata": {
    "colab": {},
    "colab_type": "code",
    "id": "p_KyoaBqOrPZ"
   },
   "outputs": [],
   "source": [
    "# For Amazon Stock Price\n",
    "start_price = 824.95\n",
    "\n",
    "# Set a large numebr of runs\n",
    "runs = 10000\n",
    "\n",
    "# Create an empty matrix to hold the end price data\n",
    "simulations = np.zeros(runs)\n",
    "\n",
    "for run in range(runs):    \n",
    "    # Set the simulation data point as the last stock price for that run\n",
    "    simulations[run] = stock_monte_carlo(start_price,days,mu,sigma)[days-1]"
   ]
  },
  {
   "cell_type": "code",
   "execution_count": null,
   "metadata": {
    "colab": {
     "base_uri": "https://localhost:8080/",
     "height": 335
    },
    "colab_type": "code",
    "executionInfo": {
     "elapsed": 90400,
     "status": "ok",
     "timestamp": 1591265269410,
     "user": {
      "displayName": "Bhwesh Gaur",
      "photoUrl": "https://lh3.googleusercontent.com/a-/AOh14GhqVNCPa380wj6B876NotZLteXXvvCfoB_hZovctw=s64",
      "userId": "17814409363742243808"
     },
     "user_tz": -330
    },
    "id": "kkEO3FblRB7z",
    "outputId": "2c7fd82e-4f84-4de0-a8cf-78de11549f1e"
   },
   "outputs": [],
   "source": [
    "\n",
    "# Now we'll define q as the 1% empirical quantile, this basically means that 99% of the values should fall between here\n",
    "q = np.percentile(simulations,1)\n",
    "\n",
    "# Now let's plot the distribution of the end prices\n",
    "plt.hist(simulations, bins=200)\n",
    "\n",
    "# Using plt.figtext to fill in some additional information onto the plot\n",
    "\n",
    "# starting price\n",
    "plt.figtext(0.6,0.8, s='Start Price: $%.2f' % start_price)\n",
    "\n",
    "# mean ending price\n",
    "plt.figtext(0.6,0.7, s='Mean Final Price: $%.2f' % simulations.mean())\n",
    "\n",
    "# Variance of the price (within 99% confidence interval)\n",
    "plt.figtext(0.6,0.6, s='VaR(0.99): $%.2f' % (start_price - q))\n",
    "\n",
    "# To display 1% quantile\n",
    "plt.figtext(0.15, 0.6, s=\"q(0.99): $%.2f\" % q)\n",
    "\n",
    "# Plot a line at the 1% quantile result\n",
    "plt.axvline(x=q, linewidth=4, color='r')\n",
    "\n",
    "# For plot title\n",
    "plt.title(label=\"Final price distribution for Amazon Stock(AMZN) after %s days\" % days, weight='bold', color='G')"
   ]
  },
  {
   "cell_type": "markdown",
   "metadata": {
    "colab_type": "text",
    "id": "MmfftWIVRT16"
   },
   "source": [
    "This basically means for every initial AMZN stock you purchase you're putting about $18.13 at risk 99% of the time from our Monte Carlo Simulation."
   ]
  },
  {
   "cell_type": "code",
   "execution_count": null,
   "metadata": {
    "colab": {},
    "colab_type": "code",
    "id": "tzCuFWjxRJN5"
   },
   "outputs": [],
   "source": [
    "# For Apple Stock Price\n",
    "start_price = 117.10\n",
    "\n",
    "# Set a large numebr of runs\n",
    "runs = 10000\n",
    "\n",
    "# Create an empty matrix to hold the end price data\n",
    "simulations = np.zeros(runs)\n",
    "\n",
    "for run in range(runs):    \n",
    "    # Set the simulation data point as the last stock price for that run\n",
    "    simulations[run] = stock_monte_carlo(start_price,days,mu,sigma)[days-1]"
   ]
  },
  {
   "cell_type": "code",
   "execution_count": null,
   "metadata": {
    "colab": {
     "base_uri": "https://localhost:8080/",
     "height": 335
    },
    "colab_type": "code",
    "executionInfo": {
     "elapsed": 114533,
     "status": "ok",
     "timestamp": 1591265293573,
     "user": {
      "displayName": "Bhwesh Gaur",
      "photoUrl": "https://lh3.googleusercontent.com/a-/AOh14GhqVNCPa380wj6B876NotZLteXXvvCfoB_hZovctw=s64",
      "userId": "17814409363742243808"
     },
     "user_tz": -330
    },
    "id": "V5SRJISvRXQQ",
    "outputId": "c273dd85-8ab5-443f-c18e-3c08686e2bde"
   },
   "outputs": [],
   "source": [
    "# Now we'll define q as the 1% empirical quantile, this basically means that 99% of the values should fall between here\n",
    "q = np.percentile(simulations,1)\n",
    "\n",
    "# Now let's plot the distribution of the end prices\n",
    "plt.hist(simulations, bins=200)\n",
    "\n",
    "# Using plt.figtext to fill in some additional information onto the plot\n",
    "\n",
    "# starting price\n",
    "plt.figtext(0.6,0.8, s='Start Price: $%.2f' % start_price)\n",
    "\n",
    "# mean ending price\n",
    "plt.figtext(0.6,0.7, s='Mean Final Price: $%.2f' % simulations.mean())\n",
    "\n",
    "# Variance of the price (within 99% confidence interval)\n",
    "plt.figtext(0.6,0.6, s='VaR(0.99): $%.2f' % (start_price - q))\n",
    "\n",
    "# To display 1% quantile\n",
    "plt.figtext(0.15, 0.6, s=\"q(0.99): $%.2f\" % q)\n",
    "\n",
    "# Plot a line at the 1% quantile result\n",
    "plt.axvline(x=q, linewidth=4, color='r')\n",
    "\n",
    "# For plot title\n",
    "plt.title(label = \"Final price distribution for Apple Stock(AAPL) after %s days\" % days, weight='bold', color='B')"
   ]
  },
  {
   "cell_type": "markdown",
   "metadata": {
    "colab_type": "text",
    "id": "1nRqLkp-Rs_O"
   },
   "source": [
    "Great! This basically means for every initial AAPL stock you purchase you're putting about $2.48 at risk 99% of the time from our Monte Carlo Simulation."
   ]
  },
  {
   "cell_type": "code",
   "execution_count": null,
   "metadata": {
    "colab": {},
    "colab_type": "code",
    "id": "uQ6HIel7RfcW"
   },
   "outputs": [],
   "source": [
    "# For Microsoft Stock Price\n",
    "start_price = 59.94\n",
    "\n",
    "# Set a large numebr of runs\n",
    "runs = 10000\n",
    "\n",
    "# Create an empty matrix to hold the end price data\n",
    "simulations = np.zeros(runs)\n",
    "\n",
    "for run in range(runs):    \n",
    "    # Set the simulation data point as the last stock price for that run\n",
    "    simulations[run] = stock_monte_carlo(start_price,days,mu,sigma)[days-1]"
   ]
  },
  {
   "cell_type": "code",
   "execution_count": null,
   "metadata": {
    "colab": {
     "base_uri": "https://localhost:8080/",
     "height": 335
    },
    "colab_type": "code",
    "executionInfo": {
     "elapsed": 138111,
     "status": "ok",
     "timestamp": 1591265317182,
     "user": {
      "displayName": "Bhwesh Gaur",
      "photoUrl": "https://lh3.googleusercontent.com/a-/AOh14GhqVNCPa380wj6B876NotZLteXXvvCfoB_hZovctw=s64",
      "userId": "17814409363742243808"
     },
     "user_tz": -330
    },
    "id": "ofmPa39GRpb-",
    "outputId": "52d75f24-fcec-4141-8934-00f259b17f3c"
   },
   "outputs": [],
   "source": [
    "# Now we'll define q as the 1% empirical quantile, this basically means that 99% of the values should fall between here\n",
    "q = np.percentile(simulations,1)\n",
    "\n",
    "# Now let's plot the distribution of the end prices\n",
    "plt.hist(simulations, bins=200)\n",
    "\n",
    "# Using plt.figtext to fill in some additional information onto the plot\n",
    "\n",
    "# starting price\n",
    "plt.figtext(0.6,0.8, s='Start Price: $%.2f' % start_price)\n",
    "\n",
    "# mean ending price\n",
    "plt.figtext(0.6,0.7, s='Mean Final Price: $%.2f' % simulations.mean())\n",
    "\n",
    "# Variance of the price (within 99% confidence interval)\n",
    "plt.figtext(0.6,0.6, s='VaR(0.99): $%.2f' % (start_price - q))\n",
    "\n",
    "# To display 1% quantile\n",
    "plt.figtext(0.15, 0.6, s=\"q(0.99): $%.2f\" % q)\n",
    "\n",
    "# Plot a line at the 1% quantile result\n",
    "plt.axvline(x=q, linewidth=4, color='r')\n",
    "\n",
    "# For plot title\n",
    "plt.title(label=\"Final price distribution for Microsoft Stock(MSFT) after %s days\" % days, weight='bold', color='M')\n",
    "\n",
    "fig1 = plt.figure()"
   ]
  },
  {
   "cell_type": "markdown",
   "metadata": {
    "colab_type": "text",
    "id": "fRfKt2AdSKX2"
   },
   "source": [
    "This basically means for every initial MSFT stock you purchase you're putting about $1.28 at risk 99% of the time from our Monte Carlo Simulation."
   ]
  },
  {
   "cell_type": "code",
   "execution_count": 74,
   "metadata": {},
   "outputs": [],
   "source": [
    "import anvil.server\n",
    "\n",
    "anvil.server.connect('AAXLQUKSUXYL2MSVQZOWW4KK-BS37U6XTRKNJ3AFI')"
   ]
  },
  {
   "cell_type": "code",
   "execution_count": 75,
   "metadata": {},
   "outputs": [],
   "source": [
    "import anvil.mpl_util\n",
    "\n",
    "@anvil.server.callable\n",
    "\n",
    "#Showing Closing Price\n",
    "def show_close(company):\n",
    "    #Let's see a historical view of the closing price\n",
    "    if company == 'AAPL':\n",
    "        AAPL['Close'].plot(legend=True, figsize=(10,4))\n",
    "    elif company == 'MSFT':\n",
    "        MSFT['Close'].plot(legend=True, figsize=(10,4))\n",
    "    elif company == 'AMZN':\n",
    "        AMZN['Close'].plot(legend=True, figsize=(10,4))\n",
    "    elif company == 'GOOGL':\n",
    "        GOOGL['Close'].plot(legend=True, figsize=(10,4))\n",
    "    \n",
    "    return anvil.mpl_util.plot_image()\n",
    "\n",
    "\n",
    "def tech_return_fun():\n",
    "    # Set up the figure by naming it returns_fig, call PairGrid on the DataFrame\n",
    "    returns_fig = sns.PairGrid(tech_returns.dropna())\n",
    "\n",
    "    # Using map_upper we can specify what the upper triangle will look like.\n",
    "    returns_fig.map_upper(plt.scatter,color='purple')\n",
    "\n",
    "    # We can also define the lower triangle in the figure, including the plot type (kde) & the color map (BluePurple)\n",
    "    returns_fig.map_lower(sns.kdeplot,cmap='cool_d')\n",
    "\n",
    "    # Finally we'll define the diagonal as a series of histogram plots of the daily return\n",
    "    returns_fig.map_diag(plt.hist,bins=30)\n",
    "    \n",
    "    return anvil.mpl_util.plot_image()\n",
    "\n",
    "def daily_return():\n",
    "    sns.heatmap(tech_returns.corr(),annot= True,fmt='.2g',cmap='YlGnBu')\n",
    "    \n",
    "    return anvil.mpl_util.plot_image()\n",
    "    \n",
    "def risk_prediction(sp,company):\n",
    "    \n",
    "    start_price = sp\n",
    "    \n",
    "    # Set up our time horizon\n",
    "    days = 365\n",
    "\n",
    "    # Now our delta\n",
    "    dt = 1/days\n",
    "\n",
    "    # Now let's grab our mu (drift) from the expected return data we got for GOOGL\n",
    "    mu = rets.mean()[company]\n",
    "\n",
    "    # Now let's grab the volatility of the stock from the std() of the average return for GOOGL\n",
    "    sigma = rets.std()[company]\n",
    "\n",
    "    # Set a large numebr of runs\n",
    "    runs = 10000\n",
    "\n",
    "    # Create an empty matrix to hold the end price data\n",
    "    simulations = np.zeros(runs)\n",
    "\n",
    "    for run in range(runs):    \n",
    "        # Set the simulation data point as the last stock price for that run\n",
    "        simulations[run] = stock_monte_carlo(start_price,days,mu,sigma)[days-1]\n",
    "    \n",
    "    # Now we'll define q as the 1% empirical quantile, this basically means that 99% of the values should fall between here\n",
    "    q = np.percentile(simulations,1)\n",
    "\n",
    "    # Now let's plot the distribution of the end prices\n",
    "    plt.hist(simulations, bins=200)\n",
    "\n",
    "    # Using plt.figtext to fill in some additional information onto the plot\n",
    "\n",
    "    # starting price\n",
    "    plt.figtext(0.6,0.8, s='Start Price: $%.2f' % start_price)\n",
    "\n",
    "    # mean ending price\n",
    "    plt.figtext(0.6,0.7, s='Mean Final Price: $%.2f' % simulations.mean())\n",
    "\n",
    "    # Variance of the price (within 99% confidence interval)\n",
    "    plt.figtext(0.6,0.6, s='VaR(0.99): $%.2f' % (start_price - q))\n",
    "\n",
    "    # To display 1% quantile\n",
    "    plt.figtext(0.15, 0.6, s=\"q(0.99): $%.2f\" % q)\n",
    "\n",
    "    # Plot a line at the 1% quantile result\n",
    "    plt.axvline(x=q, linewidth=4, color='r')\n",
    "\n",
    "    # For plot title\n",
    "    if company == 'AAPL':\n",
    "        plt.title(label=\"Final price distribution for Apple Stock(AAPL) after %s days\" % days, weight='bold', color='B')\n",
    "    elif company == 'GOOGL':\n",
    "        plt.title(label =\"Final price distribution for Google Stock(GOOGL) after %s days\" % days, weight='bold', color='Y')\n",
    "    elif company == 'MSFT':\n",
    "        plt.title(label=\"Final price distribution for Microsoft Stock(MSFT) after %s days\" % days, weight='bold', color='M')\n",
    "    elif company == 'AMZN':\n",
    "        plt.title(label=\"Final price distribution for Amazon Stock(AMZN) after %s days\" % days, weight='bold', color='G')\n",
    "    \n",
    "    return anvil.mpl_util.plot_image()\n",
    "    "
   ]
  },
  {
   "cell_type": "code",
   "execution_count": 112,
   "metadata": {},
   "outputs": [
    {
     "data": {
      "text/plain": [
       "BlobMedia[image/png,16606 bytes,name=plot.png]"
      ]
     },
     "execution_count": 112,
     "metadata": {},
     "output_type": "execute_result"
    },
    {
     "data": {
      "image/png": "[encoded data removed]",
      "text/plain": [
       "<Figure size 432x288 with 1 Axes>"
      ]
     },
     "metadata": {
      "needs_background": "light"
     },
     "output_type": "display_data"
    }
   ],
   "source": [
    "risk_prediction(599,'AAPL')"
   ]
  },
  {
   "cell_type": "code",
   "execution_count": null,
   "metadata": {},
   "outputs": [],
   "source": []
  }
 ],
 "metadata": {
  "colab": {
   "collapsed_sections": [],
   "name": "Minor Project.ipynb",
   "provenance": []
  },
  "kernelspec": {
   "display_name": "Python 3",
   "language": "python",
   "name": "python3"
  },
  "language_info": {
   "codemirror_mode": {
    "name": "ipython",
    "version": 3
   },
   "file_extension": ".py",
   "mimetype": "text/x-python",
   "name": "python",
   "nbconvert_exporter": "python",
   "pygments_lexer": "ipython3",
   "version": "3.7.6"
  }
 },
 "nbformat": 4,
 "nbformat_minor": 1
}
